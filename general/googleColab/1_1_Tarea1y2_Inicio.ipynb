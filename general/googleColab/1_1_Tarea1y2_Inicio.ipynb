{
  "nbformat": 4,
  "nbformat_minor": 0,
  "metadata": {
    "colab": {
      "provenance": [],
      "collapsed_sections": []
    },
    "kernelspec": {
      "name": "python3",
      "display_name": "Python 3"
    },
    "language_info": {
      "name": "python"
    }
  },
  "cells": [
    {
      "cell_type": "markdown",
      "source": [
        "# 1.1 - Primeros pasos en Google Colab. Almacenamiento en Google Drive usando google.colab"
      ],
      "metadata": {
        "id": "U-Dp9uRJ9_eM"
      }
    },
    {
      "cell_type": "markdown",
      "source": [
        "## Montamos el directorio de Drive\n",
        "\n",
        "\n",
        "\n"
      ],
      "metadata": {
        "id": "34f0zAVkLn6O"
      }
    },
    {
      "cell_type": "markdown",
      "source": [
        "Aqui hacemos esenciamente lo mismo que hemos visto en el ejercicio usando pyDrive, pero vamos a *solicitar acceso y montar en el sistema tu directorio de Google Drive* . Esto permitirá la persistencia de datos **entre distintas sesiones**"
      ],
      "metadata": {
        "id": "n5H1jBGz_XJx"
      }
    },
    {
      "cell_type": "code",
      "source": [
        "import os, sys\n",
        "\n",
        "# importamos libreria para hacer peticiones web\n",
        "\n",
        "import requests\n",
        "\n",
        "# importamos pandas para manipular csv\n",
        "\n",
        "import pandas as pd\n",
        "\n",
        "# importamos libreria para montar directorios de Drive\n",
        "\n",
        "from google.colab import drive\n",
        "drive.mount('/content/drive')\n",
        "\n",
        "# Creamos un directorio para este notebook y lo asociamos\n",
        "drive_path = '/content/drive/MyDrive/Colab Notebooks/sistemas-de-big-data'\n",
        "nb_path = '/content/sistemas-de-big-data'\n",
        "\n",
        "\n",
        "# se crea un symlink directo a systemas-de-big-data\n",
        "\n",
        "if not os.path.exists(drive_path):\n",
        "    os.makedirs(drive_path)\n",
        "if not os.path.islink(nb_path):\n",
        "    os.symlink(drive_path, nb_path)\n",
        "    sys.path.insert(0,nb_path)\n",
        "\n",
        "# nos situamos en la carpeta sistemas-de-big-data, toda la ejecución \n",
        "# OJO, estamos ejecutando comandos de BASH\n",
        "\n",
        "%cd $nb_path"
      ],
      "metadata": {
        "id": "xDvB62NhAeIn"
      },
      "execution_count": null,
      "outputs": []
    },
    {
      "cell_type": "markdown",
      "source": [
        "De nuevo como en el ejercicio 1, al ejecutar se ha abierto una caja donde se han indicado los permisos necesarios que se van a necesitar, y después se pide una cuenta Google para acceder. De nuevo como en el ejercicio 1, lo mejor es usar vuestra cuenta corporativa del centro.\n",
        "Podréis comprobar que bajo el directorio **Colab Notebooks** se ha creado la carpeta **sistemas-de-big-data**.\n",
        "Además en el menú de la izquierda podréis ver el *icono de una carpeta*, si pinchais sobre él veréis montado el directorio *sistemas-de-big-data* que es el **symlink** que se creado y que apunta a **drive/MyDrive/Colab Notebooks/sistemas-de-big-data**, que también podéis ver en las carpetas en el menu de la izquierda.\n"
      ],
      "metadata": {
        "id": "tLhd_yzjA6ZA"
      }
    },
    {
      "cell_type": "markdown",
      "source": [
        "## Descargamos un fichero de csv en el directorio \n"
      ],
      "metadata": {
        "id": "gEWzSw9ELt_T"
      }
    },
    {
      "cell_type": "markdown",
      "source": [
        "descargamos un csv del repositorio de datos para \"machine learning\" de la Universidad de California. \n",
        "La URL del repositorio de datos es https://archive.ics.uci.edu/ml/index.php\n",
        "\n",
        "\n",
        "\n"
      ],
      "metadata": {
        "id": "MSHvQbkyNau1"
      }
    },
    {
      "cell_type": "code",
      "source": [
        "URL = \"https://archive.ics.uci.edu/ml/machine-learning-databases/00292/Wholesale%20customers%20data.csv\"\n",
        "\n",
        "respuesta = requests.get(URL)\n",
        "open(\"wholesale_customer_data.csv\", \"wb\").write(respuesta.content)\n"
      ],
      "metadata": {
        "id": "IPzhuIcHN68b"
      },
      "execution_count": null,
      "outputs": []
    },
    {
      "cell_type": "markdown",
      "source": [
        "## Abrimos el fichero y mostramos los datos\n",
        "\n"
      ],
      "metadata": {
        "id": "2O9vQYQXPOEx"
      }
    },
    {
      "cell_type": "code",
      "source": [
        "df = pd.read_csv('wholesale_customer_data.csv')\n",
        "df.head(n=30)"
      ],
      "metadata": {
        "id": "ZZn_v-ZzPvDV"
      },
      "execution_count": null,
      "outputs": []
    },
    {
      "cell_type": "markdown",
      "source": [
        "## finalizamos la ejecucion\n"
      ],
      "metadata": {
        "id": "CHQ6BIQIRj5j"
      }
    },
    {
      "cell_type": "markdown",
      "source": [
        "Borramos el fichero y desmontamos el directorio de Drive\n",
        "\n"
      ],
      "metadata": {
        "id": "mgD9ZLZdRqUq"
      }
    },
    {
      "cell_type": "code",
      "source": [
        "if os.path.exists('wholesale_customer_data.csv'):\n",
        "     os.remove('wholesale_customer_data.csv')\n",
        "%cd ..\n",
        "os.unlink(nb_path)\n",
        "drive.flush_and_unmount()\n"
      ],
      "metadata": {
        "id": "MZcMoaKHSETk"
      },
      "execution_count": null,
      "outputs": []
    }
  ]
}