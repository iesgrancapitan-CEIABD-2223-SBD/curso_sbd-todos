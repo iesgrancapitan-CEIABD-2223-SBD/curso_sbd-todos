{
  "nbformat": 4,
  "nbformat_minor": 0,
  "metadata": {
    "colab": {
      "provenance": [],
      "toc_visible": true
    },
    "kernelspec": {
      "name": "python3",
      "display_name": "Python 3"
    },
    "language_info": {
      "name": "python"
    }
  },
  "cells": [
    {
      "cell_type": "markdown",
      "source": [
        "# Uso Numpy uso básico de matrices\n"
      ],
      "metadata": {
        "id": "4q6mZuciFGus"
      }
    },
    {
      "cell_type": "code",
      "execution_count": 1,
      "metadata": {
        "id": "SQK2DNCLxa5_"
      },
      "outputs": [],
      "source": [
        "import numpy as np"
      ]
    },
    {
      "cell_type": "markdown",
      "source": [
        "definimos una matriz 2x3"
      ],
      "metadata": {
        "id": "kV4CXHTLx2dv"
      }
    },
    {
      "cell_type": "code",
      "source": [
        "A = np.array( [[1,2,3] ,[4,5,6]])\n",
        "print (A)"
      ],
      "metadata": {
        "colab": {
          "base_uri": "https://localhost:8080/"
        },
        "id": "1CGHaBqyyaZz",
        "outputId": "56a96511-0e99-4dc6-bacb-a383f38410c8"
      },
      "execution_count": 24,
      "outputs": [
        {
          "output_type": "stream",
          "name": "stdout",
          "text": [
            "[[1 2 3]\n",
            " [4 5 6]]\n"
          ]
        }
      ]
    },
    {
      "cell_type": "markdown",
      "source": [
        "sumar dos matrices ( deben ser del mismo rango )"
      ],
      "metadata": {
        "id": "gTeciueRy7yB"
      }
    },
    {
      "cell_type": "code",
      "source": [
        "B = np.array([[1,2,3],[0,1,2]])\n",
        "C = A+B\n",
        "print (C)"
      ],
      "metadata": {
        "colab": {
          "base_uri": "https://localhost:8080/"
        },
        "id": "khD_-3X5y_VT",
        "outputId": "d3f37ea3-7b07-4e3d-c463-c674fd9dfa09"
      },
      "execution_count": 25,
      "outputs": [
        {
          "output_type": "stream",
          "name": "stdout",
          "text": [
            "[[2 4 6]\n",
            " [4 6 8]]\n"
          ]
        }
      ]
    },
    {
      "cell_type": "markdown",
      "source": [
        "multiplicamos un escalar ( es equivalente a un float, con signo ) y una matriz\n"
      ],
      "metadata": {
        "id": "gu7CRZhBzWIR"
      }
    },
    {
      "cell_type": "code",
      "source": [
        "escalar = -1.2\n",
        "D = escalar*C\n",
        "print(D)"
      ],
      "metadata": {
        "colab": {
          "base_uri": "https://localhost:8080/"
        },
        "id": "MQbGIO5nzb5o",
        "outputId": "09faa253-ad86-49ac-8a28-494780015431"
      },
      "execution_count": 27,
      "outputs": [
        {
          "output_type": "stream",
          "name": "stdout",
          "text": [
            "[[-2.4 -4.8 -7.2]\n",
            " [-4.8 -7.2 -9.6]]\n"
          ]
        }
      ]
    },
    {
      "cell_type": "markdown",
      "source": [
        "multiplicamos dos matrices de rangos no compatibles 2x2 y 3x2\n"
      ],
      "metadata": {
        "id": "1VYh29ELzrZY"
      }
    },
    {
      "cell_type": "code",
      "source": [
        "E = np.array([[2,2],[2,2]])\n",
        "F = np.array([[1,1],[1,1],[1,1]]) \n",
        "\n",
        "# al multiplicar da error al no ser compatibles los rangos\n",
        "try:\n",
        "   H = np.matmul(E,F)\n",
        "except ValueError:\n",
        "   print (\"Los rangos no son compatibles\") \n",
        "\n"
      ],
      "metadata": {
        "colab": {
          "base_uri": "https://localhost:8080/"
        },
        "id": "u2Al19vHzmVV",
        "outputId": "7a3b7f9f-e7fa-4bc8-c263-6bcd08da1454"
      },
      "execution_count": 35,
      "outputs": [
        {
          "output_type": "stream",
          "name": "stdout",
          "text": [
            "Los rangos no son compatibles\n"
          ]
        }
      ]
    },
    {
      "cell_type": "markdown",
      "source": [
        "En este caso si hay multiplicación debido a que el rango de las matrices son 2x2 y 2x3, dando lugar al multiplicar una matriz de rango 2x3.\n"
      ],
      "metadata": {
        "id": "Q8O1i2DvCCtf"
      }
    },
    {
      "cell_type": "code",
      "source": [
        "F = np.array([[1,1,1],[1,1,1]])\n",
        "H = np.matmul(E,F)\n",
        "print(H)"
      ],
      "metadata": {
        "colab": {
          "base_uri": "https://localhost:8080/"
        },
        "id": "QKG6hMV5CB50",
        "outputId": "b94c7b15-82bb-4099-80bf-b24106f6dda1"
      },
      "execution_count": 30,
      "outputs": [
        {
          "output_type": "stream",
          "name": "stdout",
          "text": [
            "[[4 4 4]\n",
            " [4 4 4]]\n"
          ]
        }
      ]
    }
  ]
}