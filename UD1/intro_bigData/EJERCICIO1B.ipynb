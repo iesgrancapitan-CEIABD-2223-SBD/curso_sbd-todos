{
  "nbformat": 4,
  "nbformat_minor": 0,
  "metadata": {
    "colab": {
      "provenance": []
    },
    "kernelspec": {
      "name": "python3",
      "display_name": "Python 3"
    },
    "language_info": {
      "name": "python"
    }
  },
  "cells": [
    {
      "cell_type": "markdown",
      "metadata": {
        "id": "xi7Zm7Llas1C"
      },
      "source": [
        "CRECIMIENTO POLINOMIAL/EXPONENCIAL: MÉTODO GRÁFICO (n!)"
      ]
    },
    {
      "cell_type": "code",
      "metadata": {
        "id": "gPaKv_yUapMY"
      },
      "source": [
        "from matplotlib import pyplot as plt # para representación gráfica\n",
        "import numpy as np # cálculo matemático\n",
        "import math # funciones matemáticas"
      ],
      "execution_count": null,
      "outputs": []
    },
    {
      "cell_type": "markdown",
      "metadata": {
        "id": "EemYyDcSb9QO"
      },
      "source": [
        "¿ n! tiene crecimiento polinomial o exponencial?"
      ]
    },
    {
      "cell_type": "code",
      "metadata": {
        "id": "JXg64lCdcAlV"
      },
      "source": [
        "m=20. # y=n!\n",
        "n=np.arange(m) # creación de vector\n",
        "y=np.zeros(len(n)) # inicialización del vector\n",
        "for i in  range(len(n)):\n",
        "  y[i]=float(math.factorial(i))\n",
        "  print(y[i])\n",
        "plt.plot(n,y,color=\"c\")\n",
        "plt.yscale(\"log\") # representación escala logarítmica en el eje y\n",
        "plt.show()"
      ],
      "execution_count": null,
      "outputs": []
    }
  ]
}