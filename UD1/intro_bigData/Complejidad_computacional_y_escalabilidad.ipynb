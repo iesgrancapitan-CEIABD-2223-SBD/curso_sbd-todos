{
  "nbformat": 4,
  "nbformat_minor": 0,
  "metadata": {
    "colab": {
      "provenance": []
    },
    "kernelspec": {
      "name": "python3",
      "display_name": "Python 3"
    },
    "language_info": {
      "name": "python"
    }
  },
  "cells": [
    {
      "cell_type": "markdown",
      "metadata": {
        "id": "cRxqnhHHkALO"
      },
      "source": [
        "**ROADRUNNER:** ¿Cual es la máximo número de dígitos de una clave que es capaz de romper en un año?"
      ]
    },
    {
      "cell_type": "code",
      "metadata": {
        "id": "IaZkAxEljYiT",
        "colab": {
          "base_uri": "https://localhost:8080/"
        },
        "outputId": "85679ca7-c1b8-42ff-dc20-aa482c76ea0e"
      },
      "source": [
        "#===============================================================================\n",
        "# IMPORTACIÓN DE LIBRERÍA \n",
        "#===============================================================================\n",
        "from math import *               # Carga de la libreria math para calcular log10\n",
        "VelocidadCPU = 2* 1.105 * 10 ** 15  # Operaciones/segundo realizadas por Roadrunner\n",
        "n=1                              # número de dígitos de la clave\n",
        "fA=1                             # número de operaciones para romper la clave\n",
        "# ¿ nº operaciones requeridas  <  nº operaciones en un  año?\n",
        "while  fA <= (VelocidadCPU *24 * 60 * 60 *365):\n",
        "    n = n+1\n",
        "    fA = 10 ** ( pow( n * log(n,10) , 0.5 ) ) \n",
        "print('Número máximo de cifras  =' , n-1)\n"
      ],
      "execution_count": null,
      "outputs": [
        {
          "output_type": "stream",
          "name": "stdout",
          "text": [
            "Número máximo de cifras  = 222\n"
          ]
        }
      ]
    }
  ]
}