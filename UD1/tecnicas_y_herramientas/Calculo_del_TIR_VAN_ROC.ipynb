{
  "nbformat": 4,
  "nbformat_minor": 0,
  "metadata": {
    "colab": {
      "provenance": [],
      "collapsed_sections": []
    },
    "kernelspec": {
      "name": "python3",
      "display_name": "Python 3"
    },
    "language_info": {
      "name": "python"
    }
  },
  "cells": [
    {
      "cell_type": "markdown",
      "metadata": {
        "id": "k2o3M3rScWuK"
      },
      "source": [
        "*Ejemplo de cálculo TIR, VAN y ROC"
      ]
    },
    {
      "cell_type": "code",
      "source": [
        "# Descargar el dataset que se utilizará utiliznado un enlace compartido de google drive\n",
        "# Si la URL es https://drive.google.com/file/d/IDFICHEROCOMPARTIDO se debe utilizar:\n",
        "# !gdown --id IDFICHEROCOMPARTIDO \n",
        "\n",
        "\n",
        "# https://drive.google.com/file/d/1J9wlTrkLuWpT33y7qxKFgBQsHRgV_Caa/view?usp=sharing\n",
        "# Comando Linux, solo funciona en Google Colab, no en local\n",
        "# con la exclamación ! ejecutamos un comando (programa) Linux que se ejecuta en la máquina virtual\n",
        "!gdown --id 1J9wlTrkLuWpT33y7qxKFgBQsHRgV_Caa\n",
        "\n",
        "# El fichero puede descargarse manualmente en 1LHj_D7FNEflEvXdrg4nHRNQplJf8vc-5"
      ],
      "metadata": {
        "colab": {
          "base_uri": "https://localhost:8080/"
        },
        "id": "oCfIpdM46DVS",
        "outputId": "14ec946f-c1a7-4e7c-93c0-fe5f937f2afb"
      },
      "execution_count": null,
      "outputs": [
        {
          "output_type": "stream",
          "name": "stdout",
          "text": [
            "Downloading...\n",
            "From: https://drive.google.com/uc?id=1J9wlTrkLuWpT33y7qxKFgBQsHRgV_Caa\n",
            "To: /content/flujoCaja.csv\n",
            "\r  0% 0.00/67.0 [00:00<?, ?B/s]\r100% 67.0/67.0 [00:00<00:00, 116kB/s]\n"
          ]
        }
      ]
    },
    {
      "cell_type": "code",
      "source": [
        "import numpy as np\n",
        "Datos= pd.read_csv('flujoCaja.csv',delimiter=\";\")\n"
      ],
      "metadata": {
        "colab": {
          "base_uri": "https://localhost:8080/",
          "height": 189
        },
        "id": "5RJeKuHO8t16",
        "outputId": "99b1eba5-e7f3-476c-9144-b0620f2c3d4b"
      },
      "execution_count": null,
      "outputs": [
        {
          "output_type": "error",
          "ename": "NameError",
          "evalue": "ignored",
          "traceback": [
            "\u001b[0;31m---------------------------------------------------------------------------\u001b[0m",
            "\u001b[0;31mNameError\u001b[0m                                 Traceback (most recent call last)",
            "\u001b[0;32m<ipython-input-21-c77a8fcc4c90>\u001b[0m in \u001b[0;36m<module>\u001b[0;34m()\u001b[0m\n\u001b[1;32m      1\u001b[0m \u001b[0;32mimport\u001b[0m \u001b[0mnumpy\u001b[0m \u001b[0;32mas\u001b[0m \u001b[0mnp\u001b[0m\u001b[0;34m\u001b[0m\u001b[0;34m\u001b[0m\u001b[0m\n\u001b[0;32m----> 2\u001b[0;31m \u001b[0mDatos\u001b[0m\u001b[0;34m=\u001b[0m \u001b[0mpd\u001b[0m\u001b[0;34m.\u001b[0m\u001b[0mread_csv\u001b[0m\u001b[0;34m(\u001b[0m\u001b[0;34m'flujoCaja.csv'\u001b[0m\u001b[0;34m,\u001b[0m\u001b[0mdelimiter\u001b[0m\u001b[0;34m=\u001b[0m\u001b[0;34m\";\"\u001b[0m\u001b[0;34m)\u001b[0m\u001b[0;34m\u001b[0m\u001b[0;34m\u001b[0m\u001b[0m\n\u001b[0m",
            "\u001b[0;31mNameError\u001b[0m: name 'pd' is not defined"
          ]
        }
      ]
    },
    {
      "cell_type": "code",
      "source": [
        "# Data Frame con los flujos de caja\n",
        "import numpy as np\n",
        "#df=pd.DataFrame(\n",
        "#   {\"Ingresos\": np.array([ 15500., 20800, 20600, 26780, 38356]),\n",
        "#     \"Gastos\": np.array([15500.,8000,10000,17340,27213]),   \n",
        "#    }\n",
        "#)"
      ],
      "metadata": {
        "id": "5R92ysBWPjZR"
      },
      "execution_count": null,
      "outputs": []
    },
    {
      "cell_type": "code",
      "source": [
        "# Definición de DataFrame\n",
        "df=pd.DataFrame(\n",
        "    {\"A\": 1.0,\n",
        "     \"B\": pd.Categorical([\"H\",\"H\",\"H\",\"M\",\"M\"]),\n",
        "     \"C\": np.array([1., 2., 3., 4., 5.]),   \n",
        "    }\n",
        ")"
      ],
      "metadata": {
        "colab": {
          "base_uri": "https://localhost:8080/",
          "height": 244
        },
        "id": "7vuL_sWxRiSO",
        "outputId": "7f72e153-9bae-4e18-ebbe-f4d1e5e9025f"
      },
      "execution_count": null,
      "outputs": [
        {
          "output_type": "error",
          "ename": "NameError",
          "evalue": "ignored",
          "traceback": [
            "\u001b[0;31m---------------------------------------------------------------------------\u001b[0m",
            "\u001b[0;31mNameError\u001b[0m                                 Traceback (most recent call last)",
            "\u001b[0;32m<ipython-input-28-4d71229545a1>\u001b[0m in \u001b[0;36m<module>\u001b[0;34m()\u001b[0m\n\u001b[1;32m      1\u001b[0m \u001b[0;31m# Definición de DataFrame\u001b[0m\u001b[0;34m\u001b[0m\u001b[0;34m\u001b[0m\u001b[0;34m\u001b[0m\u001b[0m\n\u001b[0;32m----> 2\u001b[0;31m df=pd.DataFrame(\n\u001b[0m\u001b[1;32m      3\u001b[0m     {\"A\": 1.0,\n\u001b[1;32m      4\u001b[0m      \u001b[0;34m\"B\"\u001b[0m\u001b[0;34m:\u001b[0m \u001b[0mpd\u001b[0m\u001b[0;34m.\u001b[0m\u001b[0mCategorical\u001b[0m\u001b[0;34m(\u001b[0m\u001b[0;34m[\u001b[0m\u001b[0;34m\"H\"\u001b[0m\u001b[0;34m,\u001b[0m\u001b[0;34m\"H\"\u001b[0m\u001b[0;34m,\u001b[0m\u001b[0;34m\"H\"\u001b[0m\u001b[0;34m,\u001b[0m\u001b[0;34m\"M\"\u001b[0m\u001b[0;34m,\u001b[0m\u001b[0;34m\"M\"\u001b[0m\u001b[0;34m]\u001b[0m\u001b[0;34m)\u001b[0m\u001b[0;34m,\u001b[0m\u001b[0;34m\u001b[0m\u001b[0;34m\u001b[0m\u001b[0m\n\u001b[1;32m      5\u001b[0m      \u001b[0;34m\"C\"\u001b[0m\u001b[0;34m:\u001b[0m \u001b[0mnp\u001b[0m\u001b[0;34m.\u001b[0m\u001b[0marray\u001b[0m\u001b[0;34m(\u001b[0m\u001b[0;34m[\u001b[0m\u001b[0;36m1.\u001b[0m\u001b[0;34m,\u001b[0m \u001b[0;36m2.\u001b[0m\u001b[0;34m,\u001b[0m \u001b[0;36m3.\u001b[0m\u001b[0;34m,\u001b[0m \u001b[0;36m4.\u001b[0m\u001b[0;34m,\u001b[0m \u001b[0;36m5.\u001b[0m\u001b[0;34m]\u001b[0m\u001b[0;34m)\u001b[0m\u001b[0;34m,\u001b[0m\u001b[0;34m\u001b[0m\u001b[0;34m\u001b[0m\u001b[0m\n",
            "\u001b[0;31mNameError\u001b[0m: name 'pd' is not defined"
          ]
        }
      ]
    },
    {
      "cell_type": "code",
      "metadata": {
        "colab": {
          "base_uri": "https://localhost:8080/"
        },
        "id": "OOXNd7kpcV2w",
        "outputId": "5e5da0af-f09c-4997-c5b4-08b6ec825860"
      },
      "source": [
        "#===============================================================================\n",
        "# Instalamos e importamos la libreria numpy_financial para calcular la TIR y el VAN \n",
        "# Tasa Interna de Retorno. En inglés se denomina IRR (Internal Rate of Return).\n",
        "# Valor Actual Neto. En inglés Net Present Value (NPV) \n",
        "!pip install numpy_financial\n",
        "import numpy_financial as npf\n",
        "#===============================================================================\n",
        "# Flujos netos. El primer elemento del vector es la inversion inicial (negativo)\n",
        "I0=25000 # inversión\n",
        "flujos=[-I0,-2000,12500,27000]\n",
        "k=0.05 # tasa de descuento (5% es considerado por el usuario)\n",
        "#===============================================================================\n",
        "TIR=round(npf.irr(flujos) * 100, 5)\n",
        "VAN=round(npf.npv(k,flujos),5)\n",
        "ROI=(VAN/I0)*100\n",
        "#===============================================================================\n",
        "print (\"TIR\",TIR) \n",
        "print (\"VAN\",VAN) \n",
        "print (\"ROI\",ROI) \n",
        "\n",
        "\n",
        "\n"
      ],
      "execution_count": null,
      "outputs": [
        {
          "output_type": "stream",
          "name": "stdout",
          "text": [
            "Collecting numpy_financial\n",
            "  Downloading numpy_financial-1.0.0-py3-none-any.whl (14 kB)\n",
            "Requirement already satisfied: numpy>=1.15 in /usr/local/lib/python3.7/dist-packages (from numpy_financial) (1.19.5)\n",
            "Installing collected packages: numpy-financial\n",
            "Successfully installed numpy-financial-1.0.0\n",
            "TIR 15.76996\n",
            "VAN 7756.72174\n",
            "ROI 31.02688696\n"
          ]
        }
      ]
    }
  ]
}